{
 "cells": [
  {
   "cell_type": "code",
   "execution_count": 1,
   "metadata": {
    "collapsed": false
   },
   "outputs": [
    {
     "name": "stderr",
     "output_type": "stream",
     "text": [
      ":0: FutureWarning: IPython widgets are experimental and may change in the future.\n"
     ]
    }
   ],
   "source": [
    "%matplotlib inline\n",
    "import pylab\n",
    "import seaborn\n",
    "import numpy as np\n",
    "import nengo\n",
    "import pytry\n",
    "import pandas\n",
    "import scipy"
   ]
  },
  {
   "cell_type": "code",
   "execution_count": 2,
   "metadata": {
    "collapsed": true
   },
   "outputs": [],
   "source": [
    "hdata_mean = [4.31, 2.07, 1.11, 0.57, 0.59, 0, 0.28, 0]\n",
    "hdata_se = [0.62, 0.37, 0.35, 0.24, 0.29, 0, 0.28, 0]\n",
    "hdata_rt_mean = [656, 614, 579, 554, 558, 541, 532, 532]\n",
    "hdata_rt_se = [17.09, 13.07, 12.2, 9.81, 12.83, 11.04, 11.85, 13.24]\n"
   ]
  },
  {
   "cell_type": "code",
   "execution_count": 60,
   "metadata": {
    "collapsed": false
   },
   "outputs": [],
   "source": [
    "data = pytry.read('mag2')\n",
    "data2 = []\n",
    "for d in data:\n",
    "    \n",
    "    mag = [[] for i in range(9)]\n",
    "    for i, j, r in d['results']:\n",
    "        delta = abs(i-j)-1\n",
    "        mag[delta].append(abs(r))\n",
    "    \n",
    "    for i,c in enumerate(d['correct']):\n",
    "        d2 = dict(d)\n",
    "        d2['diff'] = i + 1\n",
    "        d2['correct'] = c\n",
    "        d2['error'] = 1.0-c\n",
    "        d2['mag'] = np.mean(mag[i])\n",
    "        data2.append(d2)\n",
    "\n",
    "df = pandas.DataFrame(data2)"
   ]
  },
  {
   "cell_type": "code",
   "execution_count": 4,
   "metadata": {
    "collapsed": true
   },
   "outputs": [],
   "source": [
    "diffs = np.arange(1, 9)"
   ]
  },
  {
   "cell_type": "code",
   "execution_count": 17,
   "metadata": {
    "collapsed": false
   },
   "outputs": [],
   "source": [
    "model_mean = []\n",
    "model_se = []\n",
    "for d in diffs:\n",
    "    x = df.query('diff==%d and rep_unique==1.0 and sample_noise==0.1 and channel_clarity==0.875' % d)['error']\n",
    "    model_mean.append(np.mean(x))\n",
    "    model_se.append(scipy.stats.sem(x))\n",
    "model_mean = np.array(model_mean)*100\n",
    "model_se = np.array(model_se)*100"
   ]
  },
  {
   "cell_type": "code",
   "execution_count": 108,
   "metadata": {
    "collapsed": false
   },
   "outputs": [
    {
     "data": {
      "image/png": "[encoded data removed]",
      "text/plain": [
       "<matplotlib.figure.Figure at 0x22d70208>"
      ]
     },
     "metadata": {},
     "output_type": "display_data"
    }
   ],
   "source": [
    "pylab.figure(figsize=(3,3))\n",
    "seaborn.set_style('white')\n",
    "pylab.errorbar(diffs, hdata_mean, yerr=hdata_se, label='human', lw=3, marker='s', ms=8)\n",
    "pylab.errorbar(diffs, model_mean, yerr=model_se, label='model', lw=3, marker='^', ms=12)\n",
    "pylab.legend(loc='best')\n",
    "pylab.xticks(diffs)\n",
    "pylab.xlabel('difference between digits')\n",
    "pylab.xlim(0, 9)\n",
    "pylab.ylabel('percent error')\n",
    "pylab.tight_layout()\n",
    "pylab.savefig('magnitude_error.png', dpi=600)\n",
    "pylab.show()\n",
    "\n"
   ]
  },
  {
   "cell_type": "code",
   "execution_count": 102,
   "metadata": {
    "collapsed": false
   },
   "outputs": [],
   "source": [
    "import hyperopt as hp\n",
    "\n",
    "def objective(args):\n",
    "    scale, objective = args\n",
    "    model_rt_mean = []\n",
    "    for d in diffs:    \n",
    "        x = df.query('diff==%d and rep_unique==1.0 and sample_noise==0.1 and channel_clarity==0.875' % d)['mag']\n",
    "        x = scale / x + offset\n",
    "        model_rt_mean.append(np.mean(x))\n",
    "    model_rt_mean = np.array(model_rt_mean)*1000\n",
    "    return np.sqrt(np.mean(model_rt_mean - hdata_rt_mean)**2)\n",
    "\n",
    "space = [hp.hp.uniform('scale', 0, 5), hp.hp.uniform('offset', 0, 0.5)]\n",
    "\n",
    "best = hp.fmin(objective, space, algo=hp.tpe.suggest, max_evals=1000)\n"
   ]
  },
  {
   "cell_type": "code",
   "execution_count": 103,
   "metadata": {
    "collapsed": false
   },
   "outputs": [
    {
     "name": "stdout",
     "output_type": "stream",
     "text": [
      "{'scale': 0.16841656406853622, 'offset': 0.29017038833845304}\n"
     ]
    }
   ],
   "source": [
    "print best"
   ]
  },
  {
   "cell_type": "code",
   "execution_count": 111,
   "metadata": {
    "collapsed": false
   },
   "outputs": [],
   "source": [
    "scale = 1.0/6#best['scale']\n",
    "offset = best['offset']\n",
    "model_rt_mean = []\n",
    "model_rt_se = []\n",
    "for d in diffs:    \n",
    "    x = df.query('diff==%d and rep_unique==1.0 and sample_noise==0.1 and channel_clarity==0.875' % d)['mag']\n",
    "    x = scale / x + offset\n",
    "    model_rt_mean.append(np.mean(x))\n",
    "    model_rt_se.append(scipy.stats.sem(x))\n",
    "model_rt_mean = np.array(model_rt_mean)*1000\n",
    "model_rt_se = np.array(model_rt_se)*1000"
   ]
  },
  {
   "cell_type": "code",
   "execution_count": 112,
   "metadata": {
    "collapsed": false
   },
   "outputs": [
    {
     "data": {
      "image/png": "[encoded data removed]",
      "text/plain": [
       "<matplotlib.figure.Figure at 0x21f326a0>"
      ]
     },
     "metadata": {},
     "output_type": "display_data"
    }
   ],
   "source": [
    "pylab.figure(figsize=(3,3))\n",
    "seaborn.set_style('white')\n",
    "pylab.errorbar(diffs, hdata_rt_mean, yerr=hdata_rt_se, label='human', lw=3, marker='s', ms=8)\n",
    "pylab.errorbar(diffs, model_rt_mean, yerr=model_rt_se, label='model', lw=3, marker='^', ms=12)\n",
    "pylab.legend(loc='best')\n",
    "pylab.xticks(diffs)\n",
    "pylab.xlabel('difference between digits')\n",
    "pylab.xlim(0, 9)\n",
    "pylab.ylabel('reaction time (ms)')\n",
    "pylab.tight_layout()\n",
    "pylab.savefig('magnitude_rt.png', dpi=600)\n",
    "pylab.show()\n",
    "\n"
   ]
  },
  {
   "cell_type": "code",
   "execution_count": 110,
   "metadata": {
    "collapsed": false
   },
   "outputs": [
    {
     "name": "stdout",
     "output_type": "stream",
     "text": [
      "5.9376582436\n"
     ]
    }
   ],
   "source": [
    "print 1.0/0.16841656406853622"
   ]
  },
  {
   "cell_type": "code",
   "execution_count": null,
   "metadata": {
    "collapsed": true
   },
   "outputs": [],
   "source": []
  }
 ],
 "metadata": {
  "kernelspec": {
   "display_name": "Python 2",
   "language": "python",
   "name": "python2"
  },
  "language_info": {
   "codemirror_mode": {
    "name": "ipython",
    "version": 2
   },
   "file_extension": ".py",
   "mimetype": "text/x-python",
   "name": "python",
   "nbconvert_exporter": "python",
   "pygments_lexer": "ipython2",
   "version": "2.7.5"
  }
 },
 "nbformat": 4,
 "nbformat_minor": 0
}
